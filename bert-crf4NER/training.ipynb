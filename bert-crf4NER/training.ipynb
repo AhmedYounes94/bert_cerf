{
  "nbformat": 4,
  "nbformat_minor": 0,
  "metadata": {
    "colab": {
      "name": "training.ipynb",
      "provenance": [],
      "collapsed_sections": []
    },
    "kernelspec": {
      "name": "python3",
      "display_name": "Python 3"
    },
    "accelerator": "GPU"
  },
  "cells": [
    {
      "cell_type": "code",
      "metadata": {
        "id": "aXAjWkK29Gdk",
        "colab_type": "code",
        "colab": {
          "base_uri": "https://localhost:8080/",
          "height": 119
        },
        "outputId": "ee48d190-668c-4e1e-a2ad-c3f78be6245a"
      },
      "source": [
        "#clone the project from the github\n",
        "!git clone https://github.com/Dhanachandra/bert-crf4NER.git"
      ],
      "execution_count": 1,
      "outputs": [
        {
          "output_type": "stream",
          "text": [
            "Cloning into 'bert-crf4NER'...\n",
            "remote: Enumerating objects: 49, done.\u001b[K\n",
            "remote: Counting objects:   2% (1/49)\u001b[K\rremote: Counting objects:   4% (2/49)\u001b[K\rremote: Counting objects:   6% (3/49)\u001b[K\rremote: Counting objects:   8% (4/49)\u001b[K\rremote: Counting objects:  10% (5/49)\u001b[K\rremote: Counting objects:  12% (6/49)\u001b[K\rremote: Counting objects:  14% (7/49)\u001b[K\rremote: Counting objects:  16% (8/49)\u001b[K\rremote: Counting objects:  18% (9/49)\u001b[K\rremote: Counting objects:  20% (10/49)\u001b[K\rremote: Counting objects:  22% (11/49)\u001b[K\rremote: Counting objects:  24% (12/49)\u001b[K\rremote: Counting objects:  26% (13/49)\u001b[K\rremote: Counting objects:  28% (14/49)\u001b[K\rremote: Counting objects:  30% (15/49)\u001b[K\rremote: Counting objects:  32% (16/49)\u001b[K\rremote: Counting objects:  34% (17/49)\u001b[K\rremote: Counting objects:  36% (18/49)\u001b[K\rremote: Counting objects:  38% (19/49)\u001b[K\rremote: Counting objects:  40% (20/49)\u001b[K\rremote: Counting objects:  42% (21/49)\u001b[K\rremote: Counting objects:  44% (22/49)\u001b[K\rremote: Counting objects:  46% (23/49)\u001b[K\rremote: Counting objects:  48% (24/49)\u001b[K\rremote: Counting objects:  51% (25/49)\u001b[K\rremote: Counting objects:  53% (26/49)\u001b[K\rremote: Counting objects:  55% (27/49)\u001b[K\rremote: Counting objects:  57% (28/49)\u001b[K\rremote: Counting objects:  59% (29/49)\u001b[K\rremote: Counting objects:  61% (30/49)\u001b[K\rremote: Counting objects:  63% (31/49)\u001b[K\rremote: Counting objects:  65% (32/49)\u001b[K\rremote: Counting objects:  67% (33/49)\u001b[K\rremote: Counting objects:  69% (34/49)\u001b[K\rremote: Counting objects:  71% (35/49)\u001b[K\rremote: Counting objects:  73% (36/49)\u001b[K\rremote: Counting objects:  75% (37/49)\u001b[K\rremote: Counting objects:  77% (38/49)\u001b[K\rremote: Counting objects:  79% (39/49)\u001b[K\rremote: Counting objects:  81% (40/49)\u001b[K\rremote: Counting objects:  83% (41/49)\u001b[K\rremote: Counting objects:  85% (42/49)\u001b[K\rremote: Counting objects:  87% (43/49)\u001b[K\rremote: Counting objects:  89% (44/49)\u001b[K\rremote: Counting objects:  91% (45/49)\u001b[K\rremote: Counting objects:  93% (46/49)\u001b[K\rremote: Counting objects:  95% (47/49)\u001b[K\rremote: Counting objects:  97% (48/49)\u001b[K\rremote: Counting objects: 100% (49/49)\u001b[K\rremote: Counting objects: 100% (49/49), done.\u001b[K\n",
            "remote: Compressing objects: 100% (39/39), done.\u001b[K\n",
            "remote: Total 49 (delta 17), reused 38 (delta 8), pack-reused 0\u001b[K\n",
            "Unpacking objects: 100% (49/49), done.\n"
          ],
          "name": "stdout"
        }
      ]
    },
    {
      "cell_type": "code",
      "metadata": {
        "id": "S1gwEcG3-HLG",
        "colab_type": "code",
        "colab": {
          "base_uri": "https://localhost:8080/",
          "height": 1000
        },
        "outputId": "25c09cfd-7827-448f-9a49-ce8e0dfb40ea"
      },
      "source": [
        "\n",
        "!pip install -r /content/bert-crf4NER/requirements.txt"
      ],
      "execution_count": 8,
      "outputs": [
        {
          "output_type": "stream",
          "text": [
            "Collecting pytorch-transformers==1.2.0\n",
            "  Using cached https://files.pythonhosted.org/packages/a3/b7/d3d18008a67e0b968d1ab93ad444fc05699403fa662f634b2f2c318a508b/pytorch_transformers-1.2.0-py3-none-any.whl\n",
            "Collecting pytorch-crf==0.7.2\n",
            "  Downloading https://files.pythonhosted.org/packages/96/7d/4c4688e26ea015fc118a0327e5726e6596836abce9182d3738be8ec2e32a/pytorch_crf-0.7.2-py3-none-any.whl\n",
            "Collecting nltk==3.4.5\n",
            "\u001b[?25l  Downloading https://files.pythonhosted.org/packages/f6/1d/d925cfb4f324ede997f6d47bea4d9babba51b49e87a767c170b77005889d/nltk-3.4.5.zip (1.5MB)\n",
            "\u001b[K     |████████████████████████████████| 1.5MB 8.6MB/s \n",
            "\u001b[?25hCollecting spacy==2.2.3\n",
            "\u001b[?25l  Downloading https://files.pythonhosted.org/packages/47/13/80ad28ef7a16e2a86d16d73e28588be5f1085afd3e85e4b9b912bd700e8a/spacy-2.2.3-cp36-cp36m-manylinux1_x86_64.whl (10.4MB)\n",
            "\u001b[K     |████████████████████████████████| 10.4MB 35.2MB/s \n",
            "\u001b[?25hRequirement already satisfied: numpy in /usr/local/lib/python3.6/dist-packages (from pytorch-transformers==1.2.0->-r /content/bert-crf4NER/requirements.txt (line 1)) (1.17.5)\n",
            "Requirement already satisfied: sentencepiece in /usr/local/lib/python3.6/dist-packages (from pytorch-transformers==1.2.0->-r /content/bert-crf4NER/requirements.txt (line 1)) (0.1.85)\n",
            "Requirement already satisfied: regex in /usr/local/lib/python3.6/dist-packages (from pytorch-transformers==1.2.0->-r /content/bert-crf4NER/requirements.txt (line 1)) (2019.12.20)\n",
            "Requirement already satisfied: boto3 in /usr/local/lib/python3.6/dist-packages (from pytorch-transformers==1.2.0->-r /content/bert-crf4NER/requirements.txt (line 1)) (1.10.47)\n",
            "Requirement already satisfied: sacremoses in /usr/local/lib/python3.6/dist-packages (from pytorch-transformers==1.2.0->-r /content/bert-crf4NER/requirements.txt (line 1)) (0.0.38)\n",
            "Requirement already satisfied: tqdm in /usr/local/lib/python3.6/dist-packages (from pytorch-transformers==1.2.0->-r /content/bert-crf4NER/requirements.txt (line 1)) (4.28.1)\n",
            "Requirement already satisfied: requests in /usr/local/lib/python3.6/dist-packages (from pytorch-transformers==1.2.0->-r /content/bert-crf4NER/requirements.txt (line 1)) (2.21.0)\n",
            "Requirement already satisfied: torch>=1.0.0 in /usr/local/lib/python3.6/dist-packages (from pytorch-transformers==1.2.0->-r /content/bert-crf4NER/requirements.txt (line 1)) (1.3.1)\n",
            "Requirement already satisfied: six in /usr/local/lib/python3.6/dist-packages (from nltk==3.4.5->-r /content/bert-crf4NER/requirements.txt (line 3)) (1.12.0)\n",
            "Requirement already satisfied: setuptools in /usr/local/lib/python3.6/dist-packages (from spacy==2.2.3->-r /content/bert-crf4NER/requirements.txt (line 4)) (42.0.2)\n",
            "Requirement already satisfied: cymem<2.1.0,>=2.0.2 in /usr/local/lib/python3.6/dist-packages (from spacy==2.2.3->-r /content/bert-crf4NER/requirements.txt (line 4)) (2.0.3)\n",
            "Collecting preshed<3.1.0,>=3.0.2\n",
            "\u001b[?25l  Downloading https://files.pythonhosted.org/packages/db/6b/e07fad36913879757c90ba03d6fb7f406f7279e11dcefc105ee562de63ea/preshed-3.0.2-cp36-cp36m-manylinux1_x86_64.whl (119kB)\n",
            "\u001b[K     |████████████████████████████████| 122kB 38.2MB/s \n",
            "\u001b[?25hRequirement already satisfied: murmurhash<1.1.0,>=0.28.0 in /usr/local/lib/python3.6/dist-packages (from spacy==2.2.3->-r /content/bert-crf4NER/requirements.txt (line 4)) (1.0.2)\n",
            "Collecting blis<0.5.0,>=0.4.0\n",
            "\u001b[?25l  Downloading https://files.pythonhosted.org/packages/41/19/f95c75562d18eb27219df3a3590b911e78d131b68466ad79fdf5847eaac4/blis-0.4.1-cp36-cp36m-manylinux1_x86_64.whl (3.7MB)\n",
            "\u001b[K     |████████████████████████████████| 3.7MB 38.0MB/s \n",
            "\u001b[?25hCollecting thinc<7.4.0,>=7.3.0\n",
            "\u001b[?25l  Downloading https://files.pythonhosted.org/packages/07/59/6bb553bc9a5f072d3cd479fc939fea0f6f682892f1f5cff98de5c9b615bb/thinc-7.3.1-cp36-cp36m-manylinux1_x86_64.whl (2.2MB)\n",
            "\u001b[K     |████████████████████████████████| 2.2MB 29.5MB/s \n",
            "\u001b[?25hRequirement already satisfied: plac<1.2.0,>=0.9.6 in /usr/local/lib/python3.6/dist-packages (from spacy==2.2.3->-r /content/bert-crf4NER/requirements.txt (line 4)) (0.9.6)\n",
            "Requirement already satisfied: srsly<1.1.0,>=0.1.0 in /usr/local/lib/python3.6/dist-packages (from spacy==2.2.3->-r /content/bert-crf4NER/requirements.txt (line 4)) (1.0.1)\n",
            "Requirement already satisfied: wasabi<1.1.0,>=0.4.0 in /usr/local/lib/python3.6/dist-packages (from spacy==2.2.3->-r /content/bert-crf4NER/requirements.txt (line 4)) (0.6.0)\n",
            "Collecting catalogue<1.1.0,>=0.0.7\n",
            "  Downloading https://files.pythonhosted.org/packages/6c/f9/9a5658e2f56932e41eb264941f9a2cb7f3ce41a80cb36b2af6ab78e2f8af/catalogue-1.0.0-py2.py3-none-any.whl\n",
            "Requirement already satisfied: s3transfer<0.3.0,>=0.2.0 in /usr/local/lib/python3.6/dist-packages (from boto3->pytorch-transformers==1.2.0->-r /content/bert-crf4NER/requirements.txt (line 1)) (0.2.1)\n",
            "Requirement already satisfied: jmespath<1.0.0,>=0.7.1 in /usr/local/lib/python3.6/dist-packages (from boto3->pytorch-transformers==1.2.0->-r /content/bert-crf4NER/requirements.txt (line 1)) (0.9.4)\n",
            "Requirement already satisfied: botocore<1.14.0,>=1.13.47 in /usr/local/lib/python3.6/dist-packages (from boto3->pytorch-transformers==1.2.0->-r /content/bert-crf4NER/requirements.txt (line 1)) (1.13.47)\n",
            "Requirement already satisfied: joblib in /usr/local/lib/python3.6/dist-packages (from sacremoses->pytorch-transformers==1.2.0->-r /content/bert-crf4NER/requirements.txt (line 1)) (0.14.1)\n",
            "Requirement already satisfied: click in /usr/local/lib/python3.6/dist-packages (from sacremoses->pytorch-transformers==1.2.0->-r /content/bert-crf4NER/requirements.txt (line 1)) (7.0)\n",
            "Requirement already satisfied: chardet<3.1.0,>=3.0.2 in /usr/local/lib/python3.6/dist-packages (from requests->pytorch-transformers==1.2.0->-r /content/bert-crf4NER/requirements.txt (line 1)) (3.0.4)\n",
            "Requirement already satisfied: urllib3<1.25,>=1.21.1 in /usr/local/lib/python3.6/dist-packages (from requests->pytorch-transformers==1.2.0->-r /content/bert-crf4NER/requirements.txt (line 1)) (1.24.3)\n",
            "Requirement already satisfied: certifi>=2017.4.17 in /usr/local/lib/python3.6/dist-packages (from requests->pytorch-transformers==1.2.0->-r /content/bert-crf4NER/requirements.txt (line 1)) (2019.11.28)\n",
            "Requirement already satisfied: idna<2.9,>=2.5 in /usr/local/lib/python3.6/dist-packages (from requests->pytorch-transformers==1.2.0->-r /content/bert-crf4NER/requirements.txt (line 1)) (2.8)\n",
            "Requirement already satisfied: importlib-metadata>=0.20; python_version < \"3.8\" in /usr/local/lib/python3.6/dist-packages (from catalogue<1.1.0,>=0.0.7->spacy==2.2.3->-r /content/bert-crf4NER/requirements.txt (line 4)) (1.3.0)\n",
            "Requirement already satisfied: docutils<0.16,>=0.10 in /usr/local/lib/python3.6/dist-packages (from botocore<1.14.0,>=1.13.47->boto3->pytorch-transformers==1.2.0->-r /content/bert-crf4NER/requirements.txt (line 1)) (0.15.2)\n",
            "Requirement already satisfied: python-dateutil<3.0.0,>=2.1; python_version >= \"2.7\" in /usr/local/lib/python3.6/dist-packages (from botocore<1.14.0,>=1.13.47->boto3->pytorch-transformers==1.2.0->-r /content/bert-crf4NER/requirements.txt (line 1)) (2.6.1)\n",
            "Requirement already satisfied: zipp>=0.5 in /usr/local/lib/python3.6/dist-packages (from importlib-metadata>=0.20; python_version < \"3.8\"->catalogue<1.1.0,>=0.0.7->spacy==2.2.3->-r /content/bert-crf4NER/requirements.txt (line 4)) (0.6.0)\n",
            "Requirement already satisfied: more-itertools in /usr/local/lib/python3.6/dist-packages (from zipp>=0.5->importlib-metadata>=0.20; python_version < \"3.8\"->catalogue<1.1.0,>=0.0.7->spacy==2.2.3->-r /content/bert-crf4NER/requirements.txt (line 4)) (8.0.2)\n",
            "Building wheels for collected packages: nltk\n",
            "  Building wheel for nltk (setup.py) ... \u001b[?25l\u001b[?25hdone\n",
            "  Created wheel for nltk: filename=nltk-3.4.5-cp36-none-any.whl size=1449908 sha256=a091fde56ebd2c5fe6a58af654ed1e79dc08400251bfbd9ac35580a7cf4234ab\n",
            "  Stored in directory: /root/.cache/pip/wheels/96/86/f6/68ab24c23f207c0077381a5e3904b2815136b879538a24b483\n",
            "Successfully built nltk\n",
            "Installing collected packages: pytorch-transformers, pytorch-crf, nltk, preshed, blis, thinc, catalogue, spacy\n",
            "  Found existing installation: nltk 3.2.5\n",
            "    Uninstalling nltk-3.2.5:\n",
            "      Successfully uninstalled nltk-3.2.5\n",
            "  Found existing installation: preshed 2.0.1\n",
            "    Uninstalling preshed-2.0.1:\n",
            "      Successfully uninstalled preshed-2.0.1\n",
            "  Found existing installation: blis 0.2.4\n",
            "    Uninstalling blis-0.2.4:\n",
            "      Successfully uninstalled blis-0.2.4\n",
            "  Found existing installation: thinc 7.0.8\n",
            "    Uninstalling thinc-7.0.8:\n",
            "      Successfully uninstalled thinc-7.0.8\n",
            "  Found existing installation: spacy 2.1.9\n",
            "    Uninstalling spacy-2.1.9:\n",
            "      Successfully uninstalled spacy-2.1.9\n",
            "Successfully installed blis-0.4.1 catalogue-1.0.0 nltk-3.4.5 preshed-3.0.2 pytorch-crf-0.7.2 pytorch-transformers-1.2.0 spacy-2.2.3 thinc-7.3.1\n"
          ],
          "name": "stdout"
        }
      ]
    },
    {
      "cell_type": "code",
      "metadata": {
        "id": "RNAsTNX9-Al-",
        "colab_type": "code",
        "colab": {
          "base_uri": "https://localhost:8080/",
          "height": 34
        },
        "outputId": "689d5b40-d006-4751-ea90-7876e50291d7"
      },
      "source": [
        "%cd /content/bert-crf4NER/bert-crf4NER"
      ],
      "execution_count": 12,
      "outputs": [
        {
          "output_type": "stream",
          "text": [
            "/content/bert-crf4NER/bert-crf4NER\n"
          ],
          "name": "stdout"
        }
      ]
    },
    {
      "cell_type": "code",
      "metadata": {
        "id": "LFW7yKMgAss_",
        "colab_type": "code",
        "colab": {
          "base_uri": "https://localhost:8080/",
          "height": 1000
        },
        "outputId": "ba615245-590c-489f-c625-295736464550"
      },
      "source": [
        "!python bert_crf.py"
      ],
      "execution_count": 20,
      "outputs": [
        {
          "output_type": "stream",
          "text": [
            "\rEpoch:   0% 0/5 [00:00<?, ?it/s]2020-01-10 07:07:32.903929 Step: 1 of 937 Loss: 41.982094\n",
            "2020-01-10 07:08:14.037382 Step: 100 of 937 Loss: 0.779539\n",
            "2020-01-10 07:08:54.823116 Step: 200 of 937 Loss: 0.227637\n",
            "2020-01-10 07:09:37.951707 Step: 300 of 937 Loss: 0.191452\n",
            "2020-01-10 07:10:20.004499 Step: 400 of 937 Loss: 0.169203\n",
            "2020-01-10 07:11:03.019083 Step: 500 of 937 Loss: 0.152105\n",
            "2020-01-10 07:11:47.448239 Step: 600 of 937 Loss: 0.139260\n",
            "2020-01-10 07:12:31.169184 Step: 700 of 937 Loss: 0.123584\n",
            "2020-01-10 07:13:14.524567 Step: 800 of 937 Loss: 0.117001\n",
            "2020-01-10 07:13:56.911390 Step: 900 of 937 Loss: 0.110819\n",
            "Training Loss: 2.187249 for epoch 0\n",
            "Epoch:  0\n",
            "processed 55042 tokens with 5942 phrases; found: 5962 phrases; correct: 5333.\n",
            "accuracy:  91.29%; (non-O)\n",
            "accuracy:  98.32%; precision:  89.45%; recall:  89.75%; FB1:  89.60%\n",
            "              LOC: precision:  95.16%; recall:  89.93%; FB1:  92.47%  1736\n",
            "             MISC: precision:  83.77%; recall:  82.32%; FB1:  83.04%  906\n",
            "              ORG: precision:  79.16%; recall:  87.25%; FB1:  83.01%  1478\n",
            "              PER: precision:  95.11%; recall:  95.11%; FB1:  95.11%  1842\n",
            "\n",
            "Epoch:  20% 1/5 [07:40<30:40, 460.13s/it]2020-01-10 07:15:13.276417 Step: 1 of 937 Loss: 0.597298\n",
            "2020-01-10 07:15:54.611753 Step: 100 of 937 Loss: 0.069103\n",
            "2020-01-10 07:16:38.396533 Step: 200 of 937 Loss: 0.059325\n",
            "2020-01-10 07:17:19.906996 Step: 300 of 937 Loss: 0.055205\n",
            "2020-01-10 07:18:02.838728 Step: 400 of 937 Loss: 0.069149\n",
            "2020-01-10 07:18:46.347763 Step: 500 of 937 Loss: 0.059921\n",
            "2020-01-10 07:19:30.542247 Step: 600 of 937 Loss: 0.059315\n",
            "2020-01-10 07:20:13.508277 Step: 700 of 937 Loss: 0.057185\n",
            "2020-01-10 07:20:55.862451 Step: 800 of 937 Loss: 0.055895\n",
            "2020-01-10 07:21:39.122363 Step: 900 of 937 Loss: 0.057811\n",
            "Training Loss: 0.596497 for epoch 1\n",
            "Epoch:  1\n",
            "processed 55042 tokens with 5942 phrases; found: 6002 phrases; correct: 5433.\n",
            "accuracy:  92.63%; (non-O)\n",
            "accuracy:  98.50%; precision:  90.52%; recall:  91.43%; FB1:  90.97%\n",
            "              LOC: precision:  92.87%; recall:  93.58%; FB1:  93.22%  1851\n",
            "             MISC: precision:  84.78%; recall:  85.79%; FB1:  85.28%  933\n",
            "              ORG: precision:  84.48%; recall:  86.06%; FB1:  85.26%  1366\n",
            "              PER: precision:  95.52%; recall:  96.04%; FB1:  95.78%  1852\n",
            "\n",
            "Epoch:  40% 2/5 [15:22<23:02, 460.69s/it]2020-01-10 07:22:55.113137 Step: 1 of 937 Loss: 0.397461\n",
            "2020-01-10 07:23:36.849634 Step: 100 of 937 Loss: 0.032808\n",
            "2020-01-10 07:24:19.892016 Step: 200 of 937 Loss: 0.032802\n",
            "2020-01-10 07:25:02.700863 Step: 300 of 937 Loss: 0.024222\n",
            "2020-01-10 07:25:45.792438 Step: 400 of 937 Loss: 0.029649\n",
            "2020-01-10 07:26:30.755080 Step: 500 of 937 Loss: 0.029081\n",
            "2020-01-10 07:27:14.146888 Step: 600 of 937 Loss: 0.029921\n",
            "2020-01-10 07:27:58.100216 Step: 700 of 937 Loss: 0.029376\n",
            "2020-01-10 07:28:39.973797 Step: 800 of 937 Loss: 0.025706\n",
            "2020-01-10 07:29:22.930814 Step: 900 of 937 Loss: 0.029588\n",
            "Training Loss: 0.290709 for epoch 2\n",
            "Epoch:  2\n",
            "processed 55042 tokens with 5942 phrases; found: 6005 phrases; correct: 5478.\n",
            "accuracy:  93.71%; (non-O)\n",
            "accuracy:  98.63%; precision:  91.22%; recall:  92.19%; FB1:  91.71%\n",
            "              LOC: precision:  92.91%; recall:  94.94%; FB1:  93.91%  1877\n",
            "             MISC: precision:  85.98%; recall:  85.14%; FB1:  85.56%  913\n",
            "              ORG: precision:  86.13%; recall:  87.55%; FB1:  86.83%  1363\n",
            "              PER: precision:  95.84%; recall:  96.36%; FB1:  96.10%  1852\n",
            "\n",
            "Epoch:  60% 3/5 [23:05<15:23, 461.61s/it]2020-01-10 07:30:38.804690 Step: 1 of 937 Loss: 0.028553\n",
            "2020-01-10 07:31:22.064417 Step: 100 of 937 Loss: 0.017482\n",
            "2020-01-10 07:32:05.116022 Step: 200 of 937 Loss: 0.016488\n",
            "2020-01-10 07:32:48.683199 Step: 300 of 937 Loss: 0.013234\n",
            "2020-01-10 07:33:31.035631 Step: 400 of 937 Loss: 0.017126\n",
            "2020-01-10 07:34:13.682264 Step: 500 of 937 Loss: 0.016104\n",
            "2020-01-10 07:34:57.078000 Step: 600 of 937 Loss: 0.018327\n",
            "2020-01-10 07:35:40.322544 Step: 700 of 937 Loss: 0.013673\n",
            "2020-01-10 07:36:23.795942 Step: 800 of 937 Loss: 0.015825\n",
            "2020-01-10 07:37:06.631184 Step: 900 of 937 Loss: 0.011808\n",
            "Training Loss: 0.156974 for epoch 3\n",
            "Epoch:  3\n",
            "processed 55042 tokens with 5942 phrases; found: 5985 phrases; correct: 5480.\n",
            "accuracy:  93.46%; (non-O)\n",
            "accuracy:  98.67%; precision:  91.56%; recall:  92.22%; FB1:  91.89%\n",
            "              LOC: precision:  93.26%; recall:  94.94%; FB1:  94.09%  1870\n",
            "             MISC: precision:  84.49%; recall:  85.68%; FB1:  85.08%  935\n",
            "              ORG: precision:  88.52%; recall:  87.40%; FB1:  87.95%  1324\n",
            "              PER: precision:  95.58%; recall:  96.31%; FB1:  95.94%  1856\n",
            "\n",
            "Epoch:  80% 4/5 [30:50<07:42, 462.45s/it]2020-01-10 07:38:23.231125 Step: 1 of 937 Loss: 0.598188\n",
            "2020-01-10 07:39:05.047782 Step: 100 of 937 Loss: 0.011763\n",
            "2020-01-10 07:39:47.666542 Step: 200 of 937 Loss: 0.008593\n",
            "2020-01-10 07:40:30.964991 Step: 300 of 937 Loss: 0.007317\n",
            "2020-01-10 07:41:15.066113 Step: 400 of 937 Loss: 0.008838\n",
            "2020-01-10 07:41:57.687778 Step: 500 of 937 Loss: 0.008556\n",
            "2020-01-10 07:42:41.817199 Step: 600 of 937 Loss: 0.009490\n",
            "2020-01-10 07:43:25.217868 Step: 700 of 937 Loss: 0.007274\n",
            "2020-01-10 07:44:07.839938 Step: 800 of 937 Loss: 0.007524\n",
            "2020-01-10 07:44:51.804359 Step: 900 of 937 Loss: 0.007582\n",
            "Training Loss: 0.086452 for epoch 4\n",
            "Epoch:  4\n",
            "processed 55042 tokens with 5942 phrases; found: 5971 phrases; correct: 5481.\n",
            "accuracy:  93.39%; (non-O)\n",
            "accuracy:  98.68%; precision:  91.79%; recall:  92.24%; FB1:  92.02%\n",
            "              LOC: precision:  92.68%; recall:  95.16%; FB1:  93.90%  1886\n",
            "             MISC: precision:  86.56%; recall:  85.90%; FB1:  86.23%  915\n",
            "              ORG: precision:  87.82%; recall:  88.14%; FB1:  87.98%  1346\n",
            "              PER: precision:  96.44%; recall:  95.49%; FB1:  95.96%  1824\n",
            "\n",
            "Epoch: 100% 5/5 [38:35<00:00, 463.18s/it]\n",
            "Total training time:  2315.1779190879997\n",
            "<Figure size 640x480 with 1 Axes>\n"
          ],
          "name": "stdout"
        }
      ]
    }
  ]
}